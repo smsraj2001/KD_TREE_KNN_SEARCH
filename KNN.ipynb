{
 "cells": [
  {
   "cell_type": "markdown",
   "id": "3562d109",
   "metadata": {},
   "source": [
    "## ADVANCED ALGORITHM PROJECT\n",
    "### KNN BY KD-TREE COMPARING BRUTE FORCE\n",
    "### NAME : S M SUTHARSAN RAJ\n",
    "### SRN    : PES1UG20CS362"
   ]
  },
  {
   "cell_type": "code",
   "execution_count": 29,
   "id": "506ef796",
   "metadata": {},
   "outputs": [
    {
     "data": {
      "text/plain": [
       "26"
      ]
     },
     "execution_count": 29,
     "metadata": {},
     "output_type": "execute_result"
    }
   ],
   "source": [
    "# Compute the squared Euclidean distance between X and Y.\n",
    "def SED(X, Y):\n",
    "    return sum((i-j)**2 for i, j in zip(X, Y))\n",
    "\n",
    "SED( (3, 4), (4, 9) )"
   ]
  },
  {
   "cell_type": "code",
   "execution_count": 30,
   "id": "19658214",
   "metadata": {},
   "outputs": [
    {
     "data": {
      "text/plain": [
       "{(3, 4): (3, 5),\n",
       " (5, 1): (4, 1),\n",
       " (7, 3): (4, 1),\n",
       " (8, 9): (3, 5),\n",
       " (10, 1): (4, 1),\n",
       " (3, 3): (3, 2)}"
      ]
     },
     "execution_count": 30,
     "metadata": {},
     "output_type": "execute_result"
    }
   ],
   "source": [
    "# Use a brute force algorithm to solve the\"Nearest Neighbor Problem\"\n",
    "def nearest_neighbor_bf(*, query_points, reference_points):\n",
    "    return {\n",
    "        query_p: min(\n",
    "            reference_points,\n",
    "            key=lambda X: SED(X, query_p),\n",
    "        )\n",
    "        for query_p in query_points\n",
    "    }\n",
    "\n",
    "reference_points = [ (1, 2), (3, 2), (4, 1), (3, 5) ]\n",
    "query_points = [\n",
    "    (3, 4), (5, 1), (7, 3), (8, 9), (10, 1), (3, 3)\n",
    "]\n",
    "\n",
    "nearest_neighbor_bf(\n",
    "    reference_points = reference_points,\n",
    "    query_points = query_points,\n",
    ")"
   ]
  },
  {
   "cell_type": "code",
   "execution_count": 31,
   "id": "d49016a0",
   "metadata": {},
   "outputs": [
    {
     "data": {
      "text/plain": [
       "BT(value=(3, 5), left=BT(value=(3, 2), left=BT(value=(1, 2), left=None, right=None), right=None), right=BT(value=(4, 1), left=None, right=None))"
      ]
     },
     "execution_count": 31,
     "metadata": {},
     "output_type": "execute_result"
    }
   ],
   "source": [
    "import collections\n",
    "import operator\n",
    "\n",
    "BT = collections.namedtuple(\"BT\", [\"value\", \"left\", \"right\"])\n",
    "\n",
    "\n",
    "def kdtree(points):\n",
    "\n",
    "    k = len(points[0])\n",
    "    \n",
    "    def build(*, points, depth):\n",
    "        \"\"\"Build a k-d tree from a set of points at a given\n",
    "        depth.\n",
    "        \"\"\"\n",
    "        if len(points) == 0:\n",
    "            return None\n",
    "        \n",
    "        points.sort(key=operator.itemgetter(depth % k))\n",
    "        middle = len(points) // 2\n",
    "        \n",
    "        return BT(\n",
    "            value = points[middle],\n",
    "            left = build(\n",
    "                points=points[:middle],\n",
    "                depth=depth+1,\n",
    "            ),\n",
    "            right = build(\n",
    "                points=points[middle+1:],\n",
    "                depth=depth+1,\n",
    "            ),\n",
    "        )\n",
    "    \n",
    "    return build(points=list(points), depth=0)\n",
    "\n",
    "reference_points = [ (1, 2), (3, 2), (4, 1), (3, 5) ]\n",
    "kdtree(reference_points)"
   ]
  },
  {
   "cell_type": "code",
   "execution_count": 32,
   "id": "cd3d5aa6",
   "metadata": {},
   "outputs": [
    {
     "data": {
      "text/plain": [
       "(10, 2)"
      ]
     },
     "execution_count": 32,
     "metadata": {},
     "output_type": "execute_result"
    }
   ],
   "source": [
    "NNRecord = collections.namedtuple(\"NNRecord\", [\"point\", \"distance\"])\n",
    "\n",
    "\n",
    "def find_nearest_neighbor(*, tree, point):\n",
    "    \"\"\"Find the nearest neighbor in a k-d tree for a given\n",
    "    point.\n",
    "    \"\"\"\n",
    "    k = len(point)\n",
    "    \n",
    "    best = None\n",
    "    # Basic search in KD tree\n",
    "    def search(*, tree, depth):\n",
    "        \n",
    "        nonlocal best\n",
    "        \n",
    "        if tree is None:\n",
    "            return\n",
    "        \n",
    "        distance = SED(tree.value, point)\n",
    "        if best is None or distance < best.distance:\n",
    "            best = NNRecord(point=tree.value, distance=distance)\n",
    "        \n",
    "        axis = depth % k\n",
    "        diff = point[axis] - tree.value[axis]\n",
    "        if diff <= 0:\n",
    "            close, away = tree.left, tree.right\n",
    "        else:\n",
    "            close, away = tree.right, tree.left\n",
    "        \n",
    "        search(tree=close, depth=depth+1)\n",
    "        if diff**2 < best.distance:\n",
    "            search(tree=away, depth=depth+1)\n",
    "    \n",
    "    search(tree=tree, depth=0)\n",
    "    return best.point\n",
    "\n",
    "#reference_points = [ (1, 2), (3, 2), (4, 1), (3, 5) ]\n",
    "reference_points = [ (5, 4), (2, 6), (13, 3), (8, 7), (3, 1), (10, 2) ]\n",
    "tree = kdtree(reference_points)\n",
    "find_nearest_neighbor(tree=tree, point=(9, 4))"
   ]
  },
  {
   "cell_type": "code",
   "execution_count": 33,
   "id": "cdad90b3",
   "metadata": {},
   "outputs": [
    {
     "data": {
      "text/plain": [
       "{(3, 4): (3, 5),\n",
       " (5, 1): (4, 1),\n",
       " (7, 3): (4, 1),\n",
       " (8, 9): (3, 5),\n",
       " (10, 1): (4, 1),\n",
       " (3, 3): (3, 2)}"
      ]
     },
     "execution_count": 33,
     "metadata": {},
     "output_type": "execute_result"
    }
   ],
   "source": [
    "def nearest_neighbor_kdtree(*, query_points, reference_points):\n",
    "    tree = kdtree(reference_points)\n",
    "    return {\n",
    "        query_p: find_nearest_neighbor(tree=tree, point=query_p)\n",
    "        for query_p in query_points\n",
    "    }\n",
    "\n",
    "reference_points = [ (1, 2), (3, 2), (4, 1), (3, 5) ]\n",
    "query_points = [(3, 4), (5, 1), (7, 3), (8, 9), (10, 1), (3, 3)]\n",
    "\n",
    "nearest_neighbor_kdtree(\n",
    "    reference_points = reference_points,\n",
    "    query_points = query_points,\n",
    ")"
   ]
  },
  {
   "cell_type": "code",
   "execution_count": 34,
   "id": "87635246",
   "metadata": {},
   "outputs": [
    {
     "data": {
      "text/plain": [
       "True"
      ]
     },
     "execution_count": 34,
     "metadata": {},
     "output_type": "execute_result"
    }
   ],
   "source": [
    "nn_kdtree = nearest_neighbor_kdtree(\n",
    "    reference_points = reference_points,\n",
    "    query_points = query_points,\n",
    ")\n",
    "nn_bf = nearest_neighbor_bf(\n",
    "    reference_points = reference_points,\n",
    "    query_points = query_points,\n",
    ")\n",
    "nn_kdtree == nn_bf"
   ]
  },
  {
   "cell_type": "code",
   "execution_count": 35,
   "id": "5e9f9370",
   "metadata": {},
   "outputs": [
    {
     "data": {
      "text/plain": [
       "True"
      ]
     },
     "execution_count": 35,
     "metadata": {},
     "output_type": "execute_result"
    }
   ],
   "source": [
    "import random\n",
    "\n",
    "random_point = lambda: (random.random(), random.random())\n",
    "reference_points = [ random_point() for _ in range(3000) ]\n",
    "query_points = [ random_point() for _ in range(3000) ]\n",
    "\n",
    "solution_bf = nearest_neighbor_bf(\n",
    "    reference_points = reference_points,\n",
    "    query_points = query_points\n",
    ")\n",
    "solution_kdtree = nearest_neighbor_kdtree(\n",
    "    reference_points = reference_points,\n",
    "    query_points = query_points\n",
    ")\n",
    "\n",
    "solution_bf == solution_kdtree"
   ]
  },
  {
   "cell_type": "code",
   "execution_count": 36,
   "id": "7566b2f7",
   "metadata": {},
   "outputs": [
    {
     "name": "stdout",
     "output_type": "stream",
     "text": [
      "         96004005 function calls in 46.228 seconds\n",
      "\n",
      "   Ordered by: standard name\n",
      "\n",
      "   ncalls  tottime  percall  cumtime  percall filename:lineno(function)\n",
      " 16000000   10.282    0.000   37.186    0.000 <ipython-input-29-b858ed1712b4>:2(SED)\n",
      " 48000000   16.196    0.000   16.196    0.000 <ipython-input-29-b858ed1712b4>:3(<genexpr>)\n",
      "        1    0.000    0.000   46.228   46.228 <ipython-input-30-4ebba6a0f744>:2(nearest_neighbor_bf)\n",
      "        1    0.013    0.013   46.228   46.228 <ipython-input-30-4ebba6a0f744>:3(<dictcomp>)\n",
      " 16000000    5.002    0.000   42.189    0.000 <ipython-input-30-4ebba6a0f744>:6(<lambda>)\n",
      "        1    0.000    0.000   46.228   46.228 <string>:2(<module>)\n",
      "        1    0.000    0.000   46.228   46.228 {built-in method builtins.exec}\n",
      "     4000    4.026    0.001   46.214    0.012 {built-in method builtins.min}\n",
      " 16000000   10.708    0.000   26.904    0.000 {built-in method builtins.sum}\n",
      "        1    0.000    0.000    0.000    0.000 {method 'disable' of '_lsprof.Profiler' objects}\n",
      "\n",
      "\n"
     ]
    }
   ],
   "source": [
    "import cProfile\n",
    "\n",
    "reference_points = [ random_point() for _ in range(4000) ]\n",
    "query_points = [ random_point() for _ in range(4000) ]\n",
    "\n",
    "cProfile.run(\"\"\"nearest_neighbor_bf(reference_points=reference_points, query_points=query_points,)\"\"\")"
   ]
  },
  {
   "cell_type": "code",
   "execution_count": 37,
   "id": "6f612813",
   "metadata": {},
   "outputs": [
    {
     "name": "stdout",
     "output_type": "stream",
     "text": [
      "         519530 function calls (425748 primitive calls) in 0.406 seconds\n",
      "\n",
      "   Ordered by: standard name\n",
      "\n",
      "   ncalls  tottime  percall  cumtime  percall filename:lineno(function)\n",
      "    71823    0.055    0.000    0.190    0.000 <ipython-input-29-b858ed1712b4>:2(SED)\n",
      "   215469    0.085    0.000    0.085    0.000 <ipython-input-29-b858ed1712b4>:3(<genexpr>)\n",
      "   8001/1    0.019    0.000    0.034    0.034 <ipython-input-31-8809abb0a4d2>:11(build)\n",
      "        1    0.000    0.000    0.034    0.034 <ipython-input-31-8809abb0a4d2>:7(kdtree)\n",
      "89782/4000    0.166    0.000    0.374    0.000 <ipython-input-32-e3b03aa1b367>:11(search)\n",
      "     4000    0.004    0.000    0.379    0.000 <ipython-input-32-e3b03aa1b367>:4(find_nearest_neighbor)\n",
      "        1    0.000    0.000    0.417    0.417 <ipython-input-33-ba431d79b981>:1(nearest_neighbor_kdtree)\n",
      "        1    0.004    0.004    0.383    0.383 <ipython-input-33-ba431d79b981>:3(<dictcomp>)\n",
      "     4000    0.002    0.000    0.003    0.000 <string>:1(__new__)\n",
      "        1    0.000    0.000    0.417    0.417 <string>:2(<module>)\n",
      "    34624    0.009    0.000    0.009    0.000 {built-in method __new__ of type object at 0x00007FFA6BDBB810}\n",
      "        1    0.000    0.000    0.417    0.417 {built-in method builtins.exec}\n",
      "    16002    0.002    0.000    0.002    0.000 {built-in method builtins.len}\n",
      "    71823    0.050    0.000    0.135    0.000 {built-in method builtins.sum}\n",
      "        1    0.000    0.000    0.000    0.000 {method 'disable' of '_lsprof.Profiler' objects}\n",
      "     4000    0.011    0.000    0.011    0.000 {method 'sort' of 'list' objects}\n",
      "\n",
      "\n"
     ]
    }
   ],
   "source": [
    "cProfile.run(\"\"\"nearest_neighbor_kdtree(reference_points=reference_points, query_points=query_points,)\"\"\")"
   ]
  },
  {
   "cell_type": "code",
   "execution_count": null,
   "id": "b21b5489",
   "metadata": {},
   "outputs": [],
   "source": []
  },
  {
   "cell_type": "code",
   "execution_count": null,
   "id": "7468cf53",
   "metadata": {},
   "outputs": [],
   "source": []
  }
 ],
 "metadata": {
  "kernelspec": {
   "display_name": "Python 3",
   "language": "python",
   "name": "python3"
  },
  "language_info": {
   "codemirror_mode": {
    "name": "ipython",
    "version": 3
   },
   "file_extension": ".py",
   "mimetype": "text/x-python",
   "name": "python",
   "nbconvert_exporter": "python",
   "pygments_lexer": "ipython3",
   "version": "3.8.8"
  }
 },
 "nbformat": 4,
 "nbformat_minor": 5
}
